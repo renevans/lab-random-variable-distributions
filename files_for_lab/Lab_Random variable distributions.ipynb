{
 "cells": [
  {
   "cell_type": "code",
   "execution_count": 92,
   "id": "d342b9da",
   "metadata": {},
   "outputs": [],
   "source": [
    "import pandas as pd\n",
    "import seaborn as sns\n",
    "import matplotlib.pyplot as plt\n",
    "import numpy as np\n",
    "import re"
   ]
  },
  {
   "cell_type": "code",
   "execution_count": 93,
   "id": "1df99ce1",
   "metadata": {},
   "outputs": [],
   "source": [
    "data= pd.read_csv('we_fn_use_c_marketing_customer_value_analysis.csv')"
   ]
  },
  {
   "cell_type": "code",
   "execution_count": 94,
   "id": "6cece294",
   "metadata": {},
   "outputs": [
    {
     "data": {
      "text/html": [
       "<div>\n",
       "<style scoped>\n",
       "    .dataframe tbody tr th:only-of-type {\n",
       "        vertical-align: middle;\n",
       "    }\n",
       "\n",
       "    .dataframe tbody tr th {\n",
       "        vertical-align: top;\n",
       "    }\n",
       "\n",
       "    .dataframe thead th {\n",
       "        text-align: right;\n",
       "    }\n",
       "</style>\n",
       "<table border=\"1\" class=\"dataframe\">\n",
       "  <thead>\n",
       "    <tr style=\"text-align: right;\">\n",
       "      <th></th>\n",
       "      <th>0</th>\n",
       "      <th>1</th>\n",
       "      <th>2</th>\n",
       "      <th>3</th>\n",
       "      <th>4</th>\n",
       "      <th>5</th>\n",
       "      <th>6</th>\n",
       "      <th>7</th>\n",
       "      <th>8</th>\n",
       "      <th>9</th>\n",
       "      <th>...</th>\n",
       "      <th>9124</th>\n",
       "      <th>9125</th>\n",
       "      <th>9126</th>\n",
       "      <th>9127</th>\n",
       "      <th>9128</th>\n",
       "      <th>9129</th>\n",
       "      <th>9130</th>\n",
       "      <th>9131</th>\n",
       "      <th>9132</th>\n",
       "      <th>9133</th>\n",
       "    </tr>\n",
       "  </thead>\n",
       "  <tbody>\n",
       "    <tr>\n",
       "      <th>Customer Lifetime Value</th>\n",
       "      <td>2763.519279</td>\n",
       "      <td>6979.535903</td>\n",
       "      <td>12887.431650</td>\n",
       "      <td>7645.861827</td>\n",
       "      <td>2813.692575</td>\n",
       "      <td>8256.297800</td>\n",
       "      <td>5380.898636</td>\n",
       "      <td>7216.100311</td>\n",
       "      <td>24127.50402</td>\n",
       "      <td>7388.178085</td>\n",
       "      <td>...</td>\n",
       "      <td>16261.5855</td>\n",
       "      <td>19872.262000</td>\n",
       "      <td>4628.995325</td>\n",
       "      <td>5032.165498</td>\n",
       "      <td>4100.398533</td>\n",
       "      <td>23405.987980</td>\n",
       "      <td>3096.511217</td>\n",
       "      <td>8163.890428</td>\n",
       "      <td>7524.442436</td>\n",
       "      <td>2611.836866</td>\n",
       "    </tr>\n",
       "    <tr>\n",
       "      <th>Income</th>\n",
       "      <td>56274.000000</td>\n",
       "      <td>0.000000</td>\n",
       "      <td>48767.000000</td>\n",
       "      <td>0.000000</td>\n",
       "      <td>43836.000000</td>\n",
       "      <td>62902.000000</td>\n",
       "      <td>55350.000000</td>\n",
       "      <td>0.000000</td>\n",
       "      <td>14072.00000</td>\n",
       "      <td>28812.000000</td>\n",
       "      <td>...</td>\n",
       "      <td>60646.0000</td>\n",
       "      <td>0.000000</td>\n",
       "      <td>0.000000</td>\n",
       "      <td>66367.000000</td>\n",
       "      <td>47761.000000</td>\n",
       "      <td>71941.000000</td>\n",
       "      <td>21604.000000</td>\n",
       "      <td>0.000000</td>\n",
       "      <td>21941.000000</td>\n",
       "      <td>0.000000</td>\n",
       "    </tr>\n",
       "    <tr>\n",
       "      <th>Monthly Premium Auto</th>\n",
       "      <td>69.000000</td>\n",
       "      <td>94.000000</td>\n",
       "      <td>108.000000</td>\n",
       "      <td>106.000000</td>\n",
       "      <td>73.000000</td>\n",
       "      <td>69.000000</td>\n",
       "      <td>67.000000</td>\n",
       "      <td>101.000000</td>\n",
       "      <td>71.00000</td>\n",
       "      <td>93.000000</td>\n",
       "      <td>...</td>\n",
       "      <td>134.0000</td>\n",
       "      <td>185.000000</td>\n",
       "      <td>67.000000</td>\n",
       "      <td>64.000000</td>\n",
       "      <td>104.000000</td>\n",
       "      <td>73.000000</td>\n",
       "      <td>79.000000</td>\n",
       "      <td>85.000000</td>\n",
       "      <td>96.000000</td>\n",
       "      <td>77.000000</td>\n",
       "    </tr>\n",
       "    <tr>\n",
       "      <th>Months Since Last Claim</th>\n",
       "      <td>32.000000</td>\n",
       "      <td>13.000000</td>\n",
       "      <td>18.000000</td>\n",
       "      <td>18.000000</td>\n",
       "      <td>12.000000</td>\n",
       "      <td>14.000000</td>\n",
       "      <td>0.000000</td>\n",
       "      <td>0.000000</td>\n",
       "      <td>13.00000</td>\n",
       "      <td>17.000000</td>\n",
       "      <td>...</td>\n",
       "      <td>31.0000</td>\n",
       "      <td>26.000000</td>\n",
       "      <td>25.000000</td>\n",
       "      <td>6.000000</td>\n",
       "      <td>16.000000</td>\n",
       "      <td>18.000000</td>\n",
       "      <td>14.000000</td>\n",
       "      <td>9.000000</td>\n",
       "      <td>34.000000</td>\n",
       "      <td>3.000000</td>\n",
       "    </tr>\n",
       "    <tr>\n",
       "      <th>Months Since Policy Inception</th>\n",
       "      <td>5.000000</td>\n",
       "      <td>42.000000</td>\n",
       "      <td>38.000000</td>\n",
       "      <td>65.000000</td>\n",
       "      <td>44.000000</td>\n",
       "      <td>94.000000</td>\n",
       "      <td>13.000000</td>\n",
       "      <td>68.000000</td>\n",
       "      <td>3.00000</td>\n",
       "      <td>7.000000</td>\n",
       "      <td>...</td>\n",
       "      <td>42.0000</td>\n",
       "      <td>35.000000</td>\n",
       "      <td>21.000000</td>\n",
       "      <td>48.000000</td>\n",
       "      <td>58.000000</td>\n",
       "      <td>89.000000</td>\n",
       "      <td>28.000000</td>\n",
       "      <td>37.000000</td>\n",
       "      <td>3.000000</td>\n",
       "      <td>90.000000</td>\n",
       "    </tr>\n",
       "    <tr>\n",
       "      <th>Number of Open Complaints</th>\n",
       "      <td>0.000000</td>\n",
       "      <td>0.000000</td>\n",
       "      <td>0.000000</td>\n",
       "      <td>0.000000</td>\n",
       "      <td>0.000000</td>\n",
       "      <td>0.000000</td>\n",
       "      <td>0.000000</td>\n",
       "      <td>0.000000</td>\n",
       "      <td>0.00000</td>\n",
       "      <td>0.000000</td>\n",
       "      <td>...</td>\n",
       "      <td>0.0000</td>\n",
       "      <td>0.000000</td>\n",
       "      <td>0.000000</td>\n",
       "      <td>0.000000</td>\n",
       "      <td>0.000000</td>\n",
       "      <td>0.000000</td>\n",
       "      <td>0.000000</td>\n",
       "      <td>3.000000</td>\n",
       "      <td>0.000000</td>\n",
       "      <td>0.000000</td>\n",
       "    </tr>\n",
       "    <tr>\n",
       "      <th>Number of Policies</th>\n",
       "      <td>1.000000</td>\n",
       "      <td>8.000000</td>\n",
       "      <td>2.000000</td>\n",
       "      <td>7.000000</td>\n",
       "      <td>1.000000</td>\n",
       "      <td>2.000000</td>\n",
       "      <td>9.000000</td>\n",
       "      <td>4.000000</td>\n",
       "      <td>2.00000</td>\n",
       "      <td>8.000000</td>\n",
       "      <td>...</td>\n",
       "      <td>2.0000</td>\n",
       "      <td>2.000000</td>\n",
       "      <td>4.000000</td>\n",
       "      <td>3.000000</td>\n",
       "      <td>1.000000</td>\n",
       "      <td>2.000000</td>\n",
       "      <td>1.000000</td>\n",
       "      <td>2.000000</td>\n",
       "      <td>3.000000</td>\n",
       "      <td>1.000000</td>\n",
       "    </tr>\n",
       "    <tr>\n",
       "      <th>Total Claim Amount</th>\n",
       "      <td>384.811147</td>\n",
       "      <td>1131.464935</td>\n",
       "      <td>566.472247</td>\n",
       "      <td>529.881344</td>\n",
       "      <td>138.130879</td>\n",
       "      <td>159.383042</td>\n",
       "      <td>321.600000</td>\n",
       "      <td>363.029680</td>\n",
       "      <td>511.20000</td>\n",
       "      <td>425.527834</td>\n",
       "      <td>...</td>\n",
       "      <td>643.2000</td>\n",
       "      <td>1950.725547</td>\n",
       "      <td>482.400000</td>\n",
       "      <td>307.200000</td>\n",
       "      <td>541.282007</td>\n",
       "      <td>198.234764</td>\n",
       "      <td>379.200000</td>\n",
       "      <td>790.784983</td>\n",
       "      <td>691.200000</td>\n",
       "      <td>369.600000</td>\n",
       "    </tr>\n",
       "  </tbody>\n",
       "</table>\n",
       "<p>8 rows × 9134 columns</p>\n",
       "</div>"
      ],
      "text/plain": [
       "                                       0            1             2     \\\n",
       "Customer Lifetime Value         2763.519279  6979.535903  12887.431650   \n",
       "Income                         56274.000000     0.000000  48767.000000   \n",
       "Monthly Premium Auto              69.000000    94.000000    108.000000   \n",
       "Months Since Last Claim           32.000000    13.000000     18.000000   \n",
       "Months Since Policy Inception      5.000000    42.000000     38.000000   \n",
       "Number of Open Complaints          0.000000     0.000000      0.000000   \n",
       "Number of Policies                 1.000000     8.000000      2.000000   \n",
       "Total Claim Amount               384.811147  1131.464935    566.472247   \n",
       "\n",
       "                                      3             4             5     \\\n",
       "Customer Lifetime Value        7645.861827   2813.692575   8256.297800   \n",
       "Income                            0.000000  43836.000000  62902.000000   \n",
       "Monthly Premium Auto            106.000000     73.000000     69.000000   \n",
       "Months Since Last Claim          18.000000     12.000000     14.000000   \n",
       "Months Since Policy Inception    65.000000     44.000000     94.000000   \n",
       "Number of Open Complaints         0.000000      0.000000      0.000000   \n",
       "Number of Policies                7.000000      1.000000      2.000000   \n",
       "Total Claim Amount              529.881344    138.130879    159.383042   \n",
       "\n",
       "                                       6            7            8     \\\n",
       "Customer Lifetime Value         5380.898636  7216.100311  24127.50402   \n",
       "Income                         55350.000000     0.000000  14072.00000   \n",
       "Monthly Premium Auto              67.000000   101.000000     71.00000   \n",
       "Months Since Last Claim            0.000000     0.000000     13.00000   \n",
       "Months Since Policy Inception     13.000000    68.000000      3.00000   \n",
       "Number of Open Complaints          0.000000     0.000000      0.00000   \n",
       "Number of Policies                 9.000000     4.000000      2.00000   \n",
       "Total Claim Amount               321.600000   363.029680    511.20000   \n",
       "\n",
       "                                       9     ...        9124          9125  \\\n",
       "Customer Lifetime Value         7388.178085  ...  16261.5855  19872.262000   \n",
       "Income                         28812.000000  ...  60646.0000      0.000000   \n",
       "Monthly Premium Auto              93.000000  ...    134.0000    185.000000   \n",
       "Months Since Last Claim           17.000000  ...     31.0000     26.000000   \n",
       "Months Since Policy Inception      7.000000  ...     42.0000     35.000000   \n",
       "Number of Open Complaints          0.000000  ...      0.0000      0.000000   \n",
       "Number of Policies                 8.000000  ...      2.0000      2.000000   \n",
       "Total Claim Amount               425.527834  ...    643.2000   1950.725547   \n",
       "\n",
       "                                      9126          9127          9128  \\\n",
       "Customer Lifetime Value        4628.995325   5032.165498   4100.398533   \n",
       "Income                            0.000000  66367.000000  47761.000000   \n",
       "Monthly Premium Auto             67.000000     64.000000    104.000000   \n",
       "Months Since Last Claim          25.000000      6.000000     16.000000   \n",
       "Months Since Policy Inception    21.000000     48.000000     58.000000   \n",
       "Number of Open Complaints         0.000000      0.000000      0.000000   \n",
       "Number of Policies                4.000000      3.000000      1.000000   \n",
       "Total Claim Amount              482.400000    307.200000    541.282007   \n",
       "\n",
       "                                       9129          9130         9131  \\\n",
       "Customer Lifetime Value        23405.987980   3096.511217  8163.890428   \n",
       "Income                         71941.000000  21604.000000     0.000000   \n",
       "Monthly Premium Auto              73.000000     79.000000    85.000000   \n",
       "Months Since Last Claim           18.000000     14.000000     9.000000   \n",
       "Months Since Policy Inception     89.000000     28.000000    37.000000   \n",
       "Number of Open Complaints          0.000000      0.000000     3.000000   \n",
       "Number of Policies                 2.000000      1.000000     2.000000   \n",
       "Total Claim Amount               198.234764    379.200000   790.784983   \n",
       "\n",
       "                                       9132         9133  \n",
       "Customer Lifetime Value         7524.442436  2611.836866  \n",
       "Income                         21941.000000     0.000000  \n",
       "Monthly Premium Auto              96.000000    77.000000  \n",
       "Months Since Last Claim           34.000000     3.000000  \n",
       "Months Since Policy Inception      3.000000    90.000000  \n",
       "Number of Open Complaints          0.000000     0.000000  \n",
       "Number of Policies                 3.000000     1.000000  \n",
       "Total Claim Amount               691.200000   369.600000  \n",
       "\n",
       "[8 rows x 9134 columns]"
      ]
     },
     "execution_count": 94,
     "metadata": {},
     "output_type": "execute_result"
    }
   ],
   "source": [
    "# 1.  Get the numerical variables from our dataset.\n",
    "numerical = data._get_numeric_data()\n",
    "numerical.T"
   ]
  },
  {
   "cell_type": "code",
   "execution_count": 95,
   "id": "9cdcc670",
   "metadata": {},
   "outputs": [
    {
     "data": {
      "image/png": "[encoded data removed]",
      "text/plain": [
       "<Figure size 360x360 with 1 Axes>"
      ]
     },
     "metadata": {
      "needs_background": "light"
     },
     "output_type": "display_data"
    },
    {
     "data": {
      "image/png": "[encoded data removed]",
      "text/plain": [
       "<Figure size 360x360 with 1 Axes>"
      ]
     },
     "metadata": {
      "needs_background": "light"
     },
     "output_type": "display_data"
    },
    {
     "data": {
      "image/png": "[encoded data removed]",
      "text/plain": [
       "<Figure size 360x360 with 1 Axes>"
      ]
     },
     "metadata": {
      "needs_background": "light"
     },
     "output_type": "display_data"
    },
    {
     "data": {
      "image/png": "[encoded data removed]",
      "text/plain": [
       "<Figure size 360x360 with 1 Axes>"
      ]
     },
     "metadata": {
      "needs_background": "light"
     },
     "output_type": "display_data"
    },
    {
     "data": {
      "image/png": "[encoded data removed]",
      "text/plain": [
       "<Figure size 360x360 with 1 Axes>"
      ]
     },
     "metadata": {
      "needs_background": "light"
     },
     "output_type": "display_data"
    },
    {
     "data": {
      "image/png": "[encoded data removed]",
      "text/plain": [
       "<Figure size 360x360 with 1 Axes>"
      ]
     },
     "metadata": {
      "needs_background": "light"
     },
     "output_type": "display_data"
    },
    {
     "data": {
      "image/png": "[encoded data removed]",
      "text/plain": [
       "<Figure size 360x360 with 1 Axes>"
      ]
     },
     "metadata": {
      "needs_background": "light"
     },
     "output_type": "display_data"
    },
    {
     "data": {
      "image/png": "[encoded data removed]",
      "text/plain": [
       "<Figure size 360x360 with 1 Axes>"
      ]
     },
     "metadata": {
      "needs_background": "light"
     },
     "output_type": "display_data"
    }
   ],
   "source": [
    "# 2.  Check using a distribution plot if the variables fit the theoretical normal or exponential distribution.\n",
    "def plot_disc(Dataframe):\n",
    "    for column in Dataframe.columns:\n",
    "        sns.displot(x=Dataframe[column])\n",
    "        plt.show()\n",
    "    return None\n",
    "\n",
    "plot_disc(numerical)"
   ]
  },
  {
   "cell_type": "code",
   "execution_count": 96,
   "id": "62900695",
   "metadata": {},
   "outputs": [],
   "source": [
    "# 3.  Check if any of the transformations (log-transform, etc.) we have seen up to this point changes the result.\n",
    "\n",
    "# I will only apply the log-transform to the continuous variables"
   ]
  },
  {
   "cell_type": "code",
   "execution_count": 97,
   "id": "053c11d1",
   "metadata": {},
   "outputs": [
    {
     "name": "stdout",
     "output_type": "stream",
     "text": [
      "['Customer Lifetime Value', 'Income', 'Monthly Premium Auto', 'Months Since Last Claim', 'Months Since Policy Inception', 'Total Claim Amount']\n"
     ]
    }
   ],
   "source": [
    "continuous = []\n",
    "for x in numerical.columns: \n",
    "    if numerical[x].nunique() >= 10: \n",
    "        continuous.append(x) \n",
    "print (continuous)"
   ]
  },
  {
   "cell_type": "code",
   "execution_count": 98,
   "id": "5786d264",
   "metadata": {},
   "outputs": [
    {
     "data": {
      "text/html": [
       "<div>\n",
       "<style scoped>\n",
       "    .dataframe tbody tr th:only-of-type {\n",
       "        vertical-align: middle;\n",
       "    }\n",
       "\n",
       "    .dataframe tbody tr th {\n",
       "        vertical-align: top;\n",
       "    }\n",
       "\n",
       "    .dataframe thead th {\n",
       "        text-align: right;\n",
       "    }\n",
       "</style>\n",
       "<table border=\"1\" class=\"dataframe\">\n",
       "  <thead>\n",
       "    <tr style=\"text-align: right;\">\n",
       "      <th></th>\n",
       "      <th>Customer Lifetime Value</th>\n",
       "      <th>Income</th>\n",
       "      <th>Monthly Premium Auto</th>\n",
       "      <th>Months Since Last Claim</th>\n",
       "      <th>Months Since Policy Inception</th>\n",
       "      <th>Total Claim Amount</th>\n",
       "    </tr>\n",
       "  </thead>\n",
       "  <tbody>\n",
       "    <tr>\n",
       "      <th>0</th>\n",
       "      <td>2763.519279</td>\n",
       "      <td>56274</td>\n",
       "      <td>69</td>\n",
       "      <td>32</td>\n",
       "      <td>5</td>\n",
       "      <td>384.811147</td>\n",
       "    </tr>\n",
       "    <tr>\n",
       "      <th>1</th>\n",
       "      <td>6979.535903</td>\n",
       "      <td>0</td>\n",
       "      <td>94</td>\n",
       "      <td>13</td>\n",
       "      <td>42</td>\n",
       "      <td>1131.464935</td>\n",
       "    </tr>\n",
       "    <tr>\n",
       "      <th>2</th>\n",
       "      <td>12887.431650</td>\n",
       "      <td>48767</td>\n",
       "      <td>108</td>\n",
       "      <td>18</td>\n",
       "      <td>38</td>\n",
       "      <td>566.472247</td>\n",
       "    </tr>\n",
       "    <tr>\n",
       "      <th>3</th>\n",
       "      <td>7645.861827</td>\n",
       "      <td>0</td>\n",
       "      <td>106</td>\n",
       "      <td>18</td>\n",
       "      <td>65</td>\n",
       "      <td>529.881344</td>\n",
       "    </tr>\n",
       "    <tr>\n",
       "      <th>4</th>\n",
       "      <td>2813.692575</td>\n",
       "      <td>43836</td>\n",
       "      <td>73</td>\n",
       "      <td>12</td>\n",
       "      <td>44</td>\n",
       "      <td>138.130879</td>\n",
       "    </tr>\n",
       "    <tr>\n",
       "      <th>...</th>\n",
       "      <td>...</td>\n",
       "      <td>...</td>\n",
       "      <td>...</td>\n",
       "      <td>...</td>\n",
       "      <td>...</td>\n",
       "      <td>...</td>\n",
       "    </tr>\n",
       "    <tr>\n",
       "      <th>9129</th>\n",
       "      <td>23405.987980</td>\n",
       "      <td>71941</td>\n",
       "      <td>73</td>\n",
       "      <td>18</td>\n",
       "      <td>89</td>\n",
       "      <td>198.234764</td>\n",
       "    </tr>\n",
       "    <tr>\n",
       "      <th>9130</th>\n",
       "      <td>3096.511217</td>\n",
       "      <td>21604</td>\n",
       "      <td>79</td>\n",
       "      <td>14</td>\n",
       "      <td>28</td>\n",
       "      <td>379.200000</td>\n",
       "    </tr>\n",
       "    <tr>\n",
       "      <th>9131</th>\n",
       "      <td>8163.890428</td>\n",
       "      <td>0</td>\n",
       "      <td>85</td>\n",
       "      <td>9</td>\n",
       "      <td>37</td>\n",
       "      <td>790.784983</td>\n",
       "    </tr>\n",
       "    <tr>\n",
       "      <th>9132</th>\n",
       "      <td>7524.442436</td>\n",
       "      <td>21941</td>\n",
       "      <td>96</td>\n",
       "      <td>34</td>\n",
       "      <td>3</td>\n",
       "      <td>691.200000</td>\n",
       "    </tr>\n",
       "    <tr>\n",
       "      <th>9133</th>\n",
       "      <td>2611.836866</td>\n",
       "      <td>0</td>\n",
       "      <td>77</td>\n",
       "      <td>3</td>\n",
       "      <td>90</td>\n",
       "      <td>369.600000</td>\n",
       "    </tr>\n",
       "  </tbody>\n",
       "</table>\n",
       "<p>9134 rows × 6 columns</p>\n",
       "</div>"
      ],
      "text/plain": [
       "      Customer Lifetime Value  Income  Monthly Premium Auto  \\\n",
       "0                 2763.519279   56274                    69   \n",
       "1                 6979.535903       0                    94   \n",
       "2                12887.431650   48767                   108   \n",
       "3                 7645.861827       0                   106   \n",
       "4                 2813.692575   43836                    73   \n",
       "...                       ...     ...                   ...   \n",
       "9129             23405.987980   71941                    73   \n",
       "9130              3096.511217   21604                    79   \n",
       "9131              8163.890428       0                    85   \n",
       "9132              7524.442436   21941                    96   \n",
       "9133              2611.836866       0                    77   \n",
       "\n",
       "      Months Since Last Claim  Months Since Policy Inception  \\\n",
       "0                          32                              5   \n",
       "1                          13                             42   \n",
       "2                          18                             38   \n",
       "3                          18                             65   \n",
       "4                          12                             44   \n",
       "...                       ...                            ...   \n",
       "9129                       18                             89   \n",
       "9130                       14                             28   \n",
       "9131                        9                             37   \n",
       "9132                       34                              3   \n",
       "9133                        3                             90   \n",
       "\n",
       "      Total Claim Amount  \n",
       "0             384.811147  \n",
       "1            1131.464935  \n",
       "2             566.472247  \n",
       "3             529.881344  \n",
       "4             138.130879  \n",
       "...                  ...  \n",
       "9129          198.234764  \n",
       "9130          379.200000  \n",
       "9131          790.784983  \n",
       "9132          691.200000  \n",
       "9133          369.600000  \n",
       "\n",
       "[9134 rows x 6 columns]"
      ]
     },
     "execution_count": 98,
     "metadata": {},
     "output_type": "execute_result"
    }
   ],
   "source": [
    "continuous_df = numerical[numerical.columns[numerical.columns.isin(continuous)]]\n",
    "continuous_df"
   ]
  },
  {
   "cell_type": "code",
   "execution_count": 99,
   "id": "225752f9",
   "metadata": {},
   "outputs": [],
   "source": [
    "def log_transform_clean(x):\n",
    "    if np.isfinite(x) and x!=0:\n",
    "        return np.log(x)\n",
    "    else:\n",
    "        return np.NAN # We are returning NaNs so that we can replace them later"
   ]
  },
  {
   "cell_type": "code",
   "execution_count": 102,
   "id": "7e8e337f",
   "metadata": {},
   "outputs": [
    {
     "name": "stderr",
     "output_type": "stream",
     "text": [
      "<ipython-input-102-848a14816bf2>:2: SettingWithCopyWarning: \n",
      "A value is trying to be set on a copy of a slice from a DataFrame.\n",
      "Try using .loc[row_indexer,col_indexer] = value instead\n",
      "\n",
      "See the caveats in the documentation: https://pandas.pydata.org/pandas-docs/stable/user_guide/indexing.html#returning-a-view-versus-a-copy\n",
      "  continuous_df[x]=continuous_df[x].apply(log_transform_clean)\n"
     ]
    }
   ],
   "source": [
    "for x in continuous_df.columns: \n",
    "    continuous_df[x]=continuous_df[x].apply(log_transform_clean)  \n"
   ]
  },
  {
   "cell_type": "code",
   "execution_count": 103,
   "id": "94c54253",
   "metadata": {},
   "outputs": [
    {
     "data": {
      "text/html": [
       "<div>\n",
       "<style scoped>\n",
       "    .dataframe tbody tr th:only-of-type {\n",
       "        vertical-align: middle;\n",
       "    }\n",
       "\n",
       "    .dataframe tbody tr th {\n",
       "        vertical-align: top;\n",
       "    }\n",
       "\n",
       "    .dataframe thead th {\n",
       "        text-align: right;\n",
       "    }\n",
       "</style>\n",
       "<table border=\"1\" class=\"dataframe\">\n",
       "  <thead>\n",
       "    <tr style=\"text-align: right;\">\n",
       "      <th></th>\n",
       "      <th>Customer Lifetime Value</th>\n",
       "      <th>Income</th>\n",
       "      <th>Monthly Premium Auto</th>\n",
       "      <th>Months Since Last Claim</th>\n",
       "      <th>Months Since Policy Inception</th>\n",
       "      <th>Total Claim Amount</th>\n",
       "    </tr>\n",
       "  </thead>\n",
       "  <tbody>\n",
       "    <tr>\n",
       "      <th>0</th>\n",
       "      <td>7.924260</td>\n",
       "      <td>10.937988</td>\n",
       "      <td>4.234107</td>\n",
       "      <td>3.465736</td>\n",
       "      <td>1.609438</td>\n",
       "      <td>5.952753</td>\n",
       "    </tr>\n",
       "    <tr>\n",
       "      <th>1</th>\n",
       "      <td>8.850738</td>\n",
       "      <td>NaN</td>\n",
       "      <td>4.543295</td>\n",
       "      <td>2.564949</td>\n",
       "      <td>3.737670</td>\n",
       "      <td>7.031268</td>\n",
       "    </tr>\n",
       "    <tr>\n",
       "      <th>2</th>\n",
       "      <td>9.464008</td>\n",
       "      <td>10.794809</td>\n",
       "      <td>4.682131</td>\n",
       "      <td>2.890372</td>\n",
       "      <td>3.637586</td>\n",
       "      <td>6.339428</td>\n",
       "    </tr>\n",
       "    <tr>\n",
       "      <th>3</th>\n",
       "      <td>8.941920</td>\n",
       "      <td>NaN</td>\n",
       "      <td>4.663439</td>\n",
       "      <td>2.890372</td>\n",
       "      <td>4.174387</td>\n",
       "      <td>6.272653</td>\n",
       "    </tr>\n",
       "    <tr>\n",
       "      <th>4</th>\n",
       "      <td>7.942253</td>\n",
       "      <td>10.688211</td>\n",
       "      <td>4.290459</td>\n",
       "      <td>2.484907</td>\n",
       "      <td>3.784190</td>\n",
       "      <td>4.928202</td>\n",
       "    </tr>\n",
       "    <tr>\n",
       "      <th>...</th>\n",
       "      <td>...</td>\n",
       "      <td>...</td>\n",
       "      <td>...</td>\n",
       "      <td>...</td>\n",
       "      <td>...</td>\n",
       "      <td>...</td>\n",
       "    </tr>\n",
       "    <tr>\n",
       "      <th>9129</th>\n",
       "      <td>10.060747</td>\n",
       "      <td>11.183602</td>\n",
       "      <td>4.290459</td>\n",
       "      <td>2.890372</td>\n",
       "      <td>4.488636</td>\n",
       "      <td>5.289452</td>\n",
       "    </tr>\n",
       "    <tr>\n",
       "      <th>9130</th>\n",
       "      <td>8.038031</td>\n",
       "      <td>9.980634</td>\n",
       "      <td>4.369448</td>\n",
       "      <td>2.639057</td>\n",
       "      <td>3.332205</td>\n",
       "      <td>5.938064</td>\n",
       "    </tr>\n",
       "    <tr>\n",
       "      <th>9131</th>\n",
       "      <td>9.007476</td>\n",
       "      <td>NaN</td>\n",
       "      <td>4.442651</td>\n",
       "      <td>2.197225</td>\n",
       "      <td>3.610918</td>\n",
       "      <td>6.673026</td>\n",
       "    </tr>\n",
       "    <tr>\n",
       "      <th>9132</th>\n",
       "      <td>8.925912</td>\n",
       "      <td>9.996112</td>\n",
       "      <td>4.564348</td>\n",
       "      <td>3.526361</td>\n",
       "      <td>1.098612</td>\n",
       "      <td>6.538429</td>\n",
       "    </tr>\n",
       "    <tr>\n",
       "      <th>9133</th>\n",
       "      <td>7.867809</td>\n",
       "      <td>NaN</td>\n",
       "      <td>4.343805</td>\n",
       "      <td>1.098612</td>\n",
       "      <td>4.499810</td>\n",
       "      <td>5.912421</td>\n",
       "    </tr>\n",
       "  </tbody>\n",
       "</table>\n",
       "<p>9134 rows × 6 columns</p>\n",
       "</div>"
      ],
      "text/plain": [
       "      Customer Lifetime Value     Income  Monthly Premium Auto  \\\n",
       "0                    7.924260  10.937988              4.234107   \n",
       "1                    8.850738        NaN              4.543295   \n",
       "2                    9.464008  10.794809              4.682131   \n",
       "3                    8.941920        NaN              4.663439   \n",
       "4                    7.942253  10.688211              4.290459   \n",
       "...                       ...        ...                   ...   \n",
       "9129                10.060747  11.183602              4.290459   \n",
       "9130                 8.038031   9.980634              4.369448   \n",
       "9131                 9.007476        NaN              4.442651   \n",
       "9132                 8.925912   9.996112              4.564348   \n",
       "9133                 7.867809        NaN              4.343805   \n",
       "\n",
       "      Months Since Last Claim  Months Since Policy Inception  \\\n",
       "0                    3.465736                       1.609438   \n",
       "1                    2.564949                       3.737670   \n",
       "2                    2.890372                       3.637586   \n",
       "3                    2.890372                       4.174387   \n",
       "4                    2.484907                       3.784190   \n",
       "...                       ...                            ...   \n",
       "9129                 2.890372                       4.488636   \n",
       "9130                 2.639057                       3.332205   \n",
       "9131                 2.197225                       3.610918   \n",
       "9132                 3.526361                       1.098612   \n",
       "9133                 1.098612                       4.499810   \n",
       "\n",
       "      Total Claim Amount  \n",
       "0               5.952753  \n",
       "1               7.031268  \n",
       "2               6.339428  \n",
       "3               6.272653  \n",
       "4               4.928202  \n",
       "...                  ...  \n",
       "9129            5.289452  \n",
       "9130            5.938064  \n",
       "9131            6.673026  \n",
       "9132            6.538429  \n",
       "9133            5.912421  \n",
       "\n",
       "[9134 rows x 6 columns]"
      ]
     },
     "execution_count": 103,
     "metadata": {},
     "output_type": "execute_result"
    }
   ],
   "source": [
    "continuous_df"
   ]
  },
  {
   "cell_type": "code",
   "execution_count": 104,
   "id": "a6d551e5",
   "metadata": {},
   "outputs": [
    {
     "data": {
      "image/png": "[encoded data removed]",
      "text/plain": [
       "<Figure size 360x360 with 1 Axes>"
      ]
     },
     "metadata": {
      "needs_background": "light"
     },
     "output_type": "display_data"
    },
    {
     "data": {
      "image/png": "[encoded data removed]",
      "text/plain": [
       "<Figure size 360x360 with 1 Axes>"
      ]
     },
     "metadata": {
      "needs_background": "light"
     },
     "output_type": "display_data"
    },
    {
     "data": {
      "image/png": "[encoded data removed]",
      "text/plain": [
       "<Figure size 360x360 with 1 Axes>"
      ]
     },
     "metadata": {
      "needs_background": "light"
     },
     "output_type": "display_data"
    },
    {
     "data": {
      "image/png": "[encoded data removed]",
      "text/plain": [
       "<Figure size 360x360 with 1 Axes>"
      ]
     },
     "metadata": {
      "needs_background": "light"
     },
     "output_type": "display_data"
    },
    {
     "data": {
      "image/png": "[encoded data removed]",
      "text/plain": [
       "<Figure size 360x360 with 1 Axes>"
      ]
     },
     "metadata": {
      "needs_background": "light"
     },
     "output_type": "display_data"
    },
    {
     "data": {
      "image/png": "[encoded data removed]",
      "text/plain": [
       "<Figure size 360x360 with 1 Axes>"
      ]
     },
     "metadata": {
      "needs_background": "light"
     },
     "output_type": "display_data"
    }
   ],
   "source": [
    "def plot_disc(Dataframe):\n",
    "    for column in Dataframe.columns:\n",
    "        sns.displot(x=Dataframe[column])\n",
    "        plt.show()\n",
    "    return None\n",
    "\n",
    "plot_disc(continuous_df)"
   ]
  },
  {
   "cell_type": "code",
   "execution_count": null,
   "id": "1fe20edc",
   "metadata": {},
   "outputs": [],
   "source": [
    "# data['final_income'] =  np.where(data['INCOME'].isna(), data['predicted_income'], data['INCOME'])\n",
    "# data.head()"
   ]
  }
 ],
 "metadata": {
  "kernelspec": {
   "display_name": "Python 3",
   "language": "python",
   "name": "python3"
  },
  "language_info": {
   "codemirror_mode": {
    "name": "ipython",
    "version": 3
   },
   "file_extension": ".py",
   "mimetype": "text/x-python",
   "name": "python",
   "nbconvert_exporter": "python",
   "pygments_lexer": "ipython3",
   "version": "3.8.8"
  }
 },
 "nbformat": 4,
 "nbformat_minor": 5
}
